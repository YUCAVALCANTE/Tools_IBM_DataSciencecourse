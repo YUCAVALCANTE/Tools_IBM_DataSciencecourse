{
  "nbformat": 4,
  "nbformat_minor": 0,
  "metadata": {
    "colab": {
      "provenance": []
    },
    "kernelspec": {
      "name": "python3",
      "display_name": "Python 3"
    },
    "language_info": {
      "name": "python"
    }
  },
  "cells": [
    {
      "cell_type": "markdown",
      "source": [
        "# Data Science Introduction Notebook\n"
      ],
      "metadata": {
        "id": "3rX7T6zGO5RZ"
      }
    },
    {
      "cell_type": "markdown",
      "source": [
        "## Introduction\n",
        "Welcome to this Data Science Introduction Notebook! In this notebook, we'll explore the key languages, libraries, and tools used in the world of data science. We will also look at some basic arithmetic expressions and operations."
      ],
      "metadata": {
        "id": "ktoHt0ddO8e1"
      }
    },
    {
      "cell_type": "markdown",
      "source": [
        "## Data Science Languages\n",
        "1. Python\n",
        "2. R\n",
        "3. SQL\n",
        "4. Julia\n",
        "5. Java\n",
        "6. Scala\n"
      ],
      "metadata": {
        "id": "eRe2OWpVPCQd"
      }
    },
    {
      "cell_type": "markdown",
      "source": [
        "## Data Science Libraries\n",
        "1. Pandas (Python)\n",
        "2. Numpy (Python)\n",
        "3. Scikit-learn (Python)\n",
        "4. TensorFlow (Python)\n",
        "5. Keras (Python)\n",
        "6. ggplot2 (R)\n",
        "7. dplyr (R)\n"
      ],
      "metadata": {
        "id": "m8tpGuGUPGrp"
      }
    },
    {
      "cell_type": "markdown",
      "source": [
        "## Data Science Tools\n",
        "\n",
        "| Tool Name  | Use Case                              |\n",
        "|------------|---------------------------------------|\n",
        "| Jupyter    | Interactive data exploration          |\n",
        "| Tableau    | Data Visualization                    |\n",
        "| PowerBI    | Business Intelligence and Analytics   |\n",
        "| RStudio    | R programming and development         |\n",
        "| SQL Server | Database management                   |\n"
      ],
      "metadata": {
        "id": "dmSfk-LhPKeb"
      }
    },
    {
      "cell_type": "markdown",
      "source": [
        "## Arithmetic Expression Examples\n",
        "In the following section, we'll be showcasing some basic arithmetic operations using Python. This will include operations like addition, multiplication, and conversion of units.\n"
      ],
      "metadata": {
        "id": "JNHJuc8LPNiw"
      }
    },
    {
      "cell_type": "code",
      "source": [
        "# This is a simple arithmetic expression to multiply then add integers.\n",
        "result = (3 * 4) + 5\n",
        "result\n"
      ],
      "metadata": {
        "colab": {
          "base_uri": "https://localhost:8080/"
        },
        "id": "72GN4yI_PcpH",
        "outputId": "79ac6912-e996-4f80-ef9f-8fecba54f064"
      },
      "execution_count": 3,
      "outputs": [
        {
          "output_type": "execute_result",
          "data": {
            "text/plain": [
              "17"
            ]
          },
          "metadata": {},
          "execution_count": 3
        }
      ]
    },
    {
      "cell_type": "code",
      "source": [
        "# This will convert 200 minutes to hours by dividing by 60.\n",
        "hours = 200 / 60\n",
        "hours\n"
      ],
      "metadata": {
        "colab": {
          "base_uri": "https://localhost:8080/"
        },
        "id": "20yea5mZPd_4",
        "outputId": "f56ea917-0959-422c-9d49-c512056371e3"
      },
      "execution_count": 4,
      "outputs": [
        {
          "output_type": "execute_result",
          "data": {
            "text/plain": [
              "3.3333333333333335"
            ]
          },
          "metadata": {},
          "execution_count": 4
        }
      ]
    },
    {
      "cell_type": "markdown",
      "source": [
        "## Objectives\n",
        "- Understand the basic languages used in Data Science.\n",
        "- Learn about common libraries and tools employed in Data Science tasks.\n",
        "- Execute basic arithmetic operations in Python.\n",
        "- Grasp the methodology for converting units, such as minutes to hours.\n"
      ],
      "metadata": {
        "id": "_SnxZVIKPptI"
      }
    },
    {
      "cell_type": "markdown",
      "source": [
        "## Author\n",
        "Yury Cavalcante\n"
      ],
      "metadata": {
        "id": "sW2jcuQgPsvV"
      }
    }
  ]
}